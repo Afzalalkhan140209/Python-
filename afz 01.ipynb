{
 "cells": [
  {
   "cell_type": "markdown",
   "id": "ad53ed58",
   "metadata": {},
   "source": [
    "# variables"
   ]
  },
  {
   "cell_type": "code",
   "execution_count": 1,
   "id": "a8861c76",
   "metadata": {},
   "outputs": [],
   "source": [
    "a = \"apple\"\n",
    "b =123\n",
    "c =5.07\n",
    "d = True"
   ]
  },
  {
   "cell_type": "code",
   "execution_count": 2,
   "id": "2f3ed364",
   "metadata": {},
   "outputs": [
    {
     "data": {
      "text/plain": [
       "str"
      ]
     },
     "execution_count": 2,
     "metadata": {},
     "output_type": "execute_result"
    }
   ],
   "source": [
    "type(a)"
   ]
  },
  {
   "cell_type": "code",
   "execution_count": 3,
   "id": "8bc5da95",
   "metadata": {},
   "outputs": [
    {
     "data": {
      "text/plain": [
       "int"
      ]
     },
     "execution_count": 3,
     "metadata": {},
     "output_type": "execute_result"
    }
   ],
   "source": [
    "type(b)"
   ]
  },
  {
   "cell_type": "code",
   "execution_count": 4,
   "id": "6aa4bf84",
   "metadata": {},
   "outputs": [
    {
     "data": {
      "text/plain": [
       "float"
      ]
     },
     "execution_count": 4,
     "metadata": {},
     "output_type": "execute_result"
    }
   ],
   "source": [
    "type(c)"
   ]
  },
  {
   "cell_type": "code",
   "execution_count": 5,
   "id": "9060a592",
   "metadata": {},
   "outputs": [
    {
     "data": {
      "text/plain": [
       "bool"
      ]
     },
     "execution_count": 5,
     "metadata": {},
     "output_type": "execute_result"
    }
   ],
   "source": [
    "type(d)"
   ]
  },
  {
   "cell_type": "code",
   "execution_count": 6,
   "id": "208059ae",
   "metadata": {},
   "outputs": [],
   "source": [
    "name = \"Zain\"\n",
    "Std1 = \"Bilal\""
   ]
  },
  {
   "cell_type": "code",
   "execution_count": 9,
   "id": "17e3c243",
   "metadata": {},
   "outputs": [
    {
     "data": {
      "text/plain": [
       "str"
      ]
     },
     "execution_count": 9,
     "metadata": {},
     "output_type": "execute_result"
    }
   ],
   "source": [
    "type (name)\n"
   ]
  },
  {
   "cell_type": "code",
   "execution_count": 10,
   "id": "7554b0e1",
   "metadata": {},
   "outputs": [
    {
     "data": {
      "text/plain": [
       "str"
      ]
     },
     "execution_count": 10,
     "metadata": {},
     "output_type": "execute_result"
    }
   ],
   "source": [
    "type(Std1)"
   ]
  },
  {
   "cell_type": "code",
   "execution_count": 2,
   "id": "c23840ea",
   "metadata": {},
   "outputs": [],
   "source": [
    "number = 123\n"
   ]
  },
  {
   "cell_type": "code",
   "execution_count": 3,
   "id": "f26a783f",
   "metadata": {},
   "outputs": [
    {
     "data": {
      "text/plain": [
       "int"
      ]
     },
     "execution_count": 3,
     "metadata": {},
     "output_type": "execute_result"
    }
   ],
   "source": [
    "type(number)"
   ]
  },
  {
   "cell_type": "code",
   "execution_count": 7,
   "id": "8f197486",
   "metadata": {},
   "outputs": [
    {
     "name": "stdout",
     "output_type": "stream",
     "text": [
      "123\n"
     ]
    }
   ],
   "source": [
    " shop = 123\n",
    "print(shop)  # This will output: 123\n"
   ]
  },
  {
   "cell_type": "code",
   "execution_count": 8,
   "id": "d0c59dbd",
   "metadata": {},
   "outputs": [
    {
     "data": {
      "text/plain": [
       "int"
      ]
     },
     "execution_count": 8,
     "metadata": {},
     "output_type": "execute_result"
    }
   ],
   "source": [
    "type(shop)"
   ]
  },
  {
   "cell_type": "code",
   "execution_count": 9,
   "id": "63fce1db",
   "metadata": {},
   "outputs": [],
   "source": [
    "paul =123\n"
   ]
  },
  {
   "cell_type": "code",
   "execution_count": 10,
   "id": "f6a4f3bc",
   "metadata": {},
   "outputs": [
    {
     "data": {
      "text/plain": [
       "int"
      ]
     },
     "execution_count": 10,
     "metadata": {},
     "output_type": "execute_result"
    }
   ],
   "source": [
    "type(paul)"
   ]
  },
  {
   "cell_type": "code",
   "execution_count": 16,
   "id": "285b5008",
   "metadata": {},
   "outputs": [],
   "source": []
  },
  {
   "cell_type": "code",
   "execution_count": 17,
   "id": "30bcd7b5",
   "metadata": {},
   "outputs": [
    {
     "ename": "TypeError",
     "evalue": "'str' object is not callable",
     "output_type": "error",
     "traceback": [
      "\u001b[1;31m---------------------------------------------------------------------------\u001b[0m",
      "\u001b[1;31mTypeError\u001b[0m                                 Traceback (most recent call last)",
      "Cell \u001b[1;32mIn[17], line 1\u001b[0m\n\u001b[1;32m----> 1\u001b[0m \u001b[38;5;28mtype\u001b[39m(bob)\n",
      "\u001b[1;31mTypeError\u001b[0m: 'str' object is not callable"
     ]
    }
   ],
   "source": [
    "type(bob)\n"
   ]
  },
  {
   "cell_type": "code",
   "execution_count": 18,
   "id": "ca2fc70d",
   "metadata": {},
   "outputs": [],
   "source": [
    "bob =\"bobby\""
   ]
  },
  {
   "cell_type": "code",
   "execution_count": 20,
   "id": "9256f1e8",
   "metadata": {},
   "outputs": [
    {
     "data": {
      "text/plain": [
       "'bobby'"
      ]
     },
     "execution_count": 20,
     "metadata": {},
     "output_type": "execute_result"
    }
   ],
   "source": [
    "bob"
   ]
  },
  {
   "cell_type": "code",
   "execution_count": 23,
   "id": "2e1419a9",
   "metadata": {},
   "outputs": [
    {
     "data": {
      "text/plain": [
       "'bobby'"
      ]
     },
     "execution_count": 23,
     "metadata": {},
     "output_type": "execute_result"
    }
   ],
   "source": [
    "bob"
   ]
  },
  {
   "cell_type": "code",
   "execution_count": 1,
   "id": "a01f5495",
   "metadata": {},
   "outputs": [],
   "source": [
    "mona=1.1"
   ]
  },
  {
   "cell_type": "code",
   "execution_count": 2,
   "id": "f820e28b",
   "metadata": {},
   "outputs": [
    {
     "data": {
      "text/plain": [
       "float"
      ]
     },
     "execution_count": 2,
     "metadata": {},
     "output_type": "execute_result"
    }
   ],
   "source": [
    "type(mona)"
   ]
  },
  {
   "cell_type": "code",
   "execution_count": 4,
   "id": "ef97f961",
   "metadata": {},
   "outputs": [
    {
     "data": {
      "text/plain": [
       "int"
      ]
     },
     "execution_count": 4,
     "metadata": {},
     "output_type": "execute_result"
    }
   ],
   "source": [
    "shop = 123\n",
    "type(shop)"
   ]
  },
  {
   "cell_type": "markdown",
   "id": "f83ca112",
   "metadata": {},
   "source": [
    "# variable data types"
   ]
  },
  {
   "cell_type": "code",
   "execution_count": 9,
   "id": "a1c92769",
   "metadata": {},
   "outputs": [],
   "source": [
    "a = 10"
   ]
  },
  {
   "cell_type": "code",
   "execution_count": 10,
   "id": "9a825526",
   "metadata": {},
   "outputs": [
    {
     "data": {
      "text/plain": [
       "int"
      ]
     },
     "execution_count": 10,
     "metadata": {},
     "output_type": "execute_result"
    }
   ],
   "source": [
    "type(a)"
   ]
  },
  {
   "cell_type": "code",
   "execution_count": 14,
   "id": "728d7560",
   "metadata": {},
   "outputs": [
    {
     "data": {
      "text/plain": [
       "bool"
      ]
     },
     "execution_count": 14,
     "metadata": {},
     "output_type": "execute_result"
    }
   ],
   "source": [
    "a = False\n",
    "type(a)"
   ]
  },
  {
   "cell_type": "code",
   "execution_count": 15,
   "id": "dcb25455",
   "metadata": {},
   "outputs": [],
   "source": [
    "std1 = \"Arslan Ahmed\"\n",
    "std2 = \"jagga\"\n",
    "std3 = \"preeto\"\n",
    "str1 = 123\n",
    "str2 = 456\n",
    "str3 = 789"
   ]
  },
  {
   "cell_type": "code",
   "execution_count": 16,
   "id": "aa02aa85",
   "metadata": {},
   "outputs": [
    {
     "data": {
      "text/plain": [
       "('Arslan Ahmed', 123)"
      ]
     },
     "execution_count": 16,
     "metadata": {},
     "output_type": "execute_result"
    }
   ],
   "source": [
    "std1,str1"
   ]
  },
  {
   "cell_type": "code",
   "execution_count": 18,
   "id": "7c2bc953",
   "metadata": {},
   "outputs": [
    {
     "data": {
      "text/plain": [
       "('preeto', 789)"
      ]
     },
     "execution_count": 18,
     "metadata": {},
     "output_type": "execute_result"
    }
   ],
   "source": [
    "std3,str3"
   ]
  },
  {
   "cell_type": "code",
   "execution_count": 20,
   "id": "ca05696b",
   "metadata": {},
   "outputs": [
    {
     "data": {
      "text/plain": [
       "('jagga', 456)"
      ]
     },
     "execution_count": 20,
     "metadata": {},
     "output_type": "execute_result"
    }
   ],
   "source": [
    "std2,str2"
   ]
  },
  {
   "cell_type": "code",
   "execution_count": 21,
   "id": "63fbbad7",
   "metadata": {},
   "outputs": [
    {
     "name": "stdout",
     "output_type": "stream",
     "text": [
      "Arslan Ahmed\n"
     ]
    }
   ],
   "source": [
    "print(std1)"
   ]
  },
  {
   "cell_type": "code",
   "execution_count": 22,
   "id": "e9205658",
   "metadata": {},
   "outputs": [
    {
     "name": "stdout",
     "output_type": "stream",
     "text": [
      "Arslan Ahmed 123\n"
     ]
    }
   ],
   "source": [
    "print(std1,str1)"
   ]
  },
  {
   "cell_type": "code",
   "execution_count": 23,
   "id": "2c3f4e35",
   "metadata": {},
   "outputs": [
    {
     "name": "stdout",
     "output_type": "stream",
     "text": [
      "jagga 456\n"
     ]
    }
   ],
   "source": [
    "print(std2,str2)"
   ]
  },
  {
   "cell_type": "code",
   "execution_count": 24,
   "id": "b1e615db",
   "metadata": {},
   "outputs": [
    {
     "name": "stdout",
     "output_type": "stream",
     "text": [
      "preeto 789\n"
     ]
    }
   ],
   "source": [
    "print(std3,str3)"
   ]
  },
  {
   "cell_type": "code",
   "execution_count": 25,
   "id": "754f0d1e",
   "metadata": {},
   "outputs": [
    {
     "name": "stdout",
     "output_type": "stream",
     "text": [
      "Student name Arslan Ahmed and his roll no 123\n"
     ]
    }
   ],
   "source": [
    "print(\"Student name\",std1,\"and his roll no\", str1)"
   ]
  },
  {
   "cell_type": "code",
   "execution_count": 27,
   "id": "913312f8",
   "metadata": {},
   "outputs": [
    {
     "name": "stdout",
     "output_type": "stream",
     "text": [
      "student name jagga and his roll no 456\n"
     ]
    }
   ],
   "source": [
    "print(\"student name\",std2,\"and his roll no\",str2)"
   ]
  },
  {
   "cell_type": "code",
   "execution_count": 31,
   "id": "bf3bce25",
   "metadata": {},
   "outputs": [
    {
     "name": "stdout",
     "output_type": "stream",
     "text": [
      "student name preeto and his roll no 789\n"
     ]
    }
   ],
   "source": [
    "print(\"student name\",std3,\"and his roll no\",str3)"
   ]
  },
  {
   "cell_type": "code",
   "execution_count": null,
   "id": "1d01665d",
   "metadata": {},
   "outputs": [],
   "source": []
  }
 ],
 "metadata": {
  "kernelspec": {
   "display_name": "Python 3 (ipykernel)",
   "language": "python",
   "name": "python3"
  },
  "language_info": {
   "codemirror_mode": {
    "name": "ipython",
    "version": 3
   },
   "file_extension": ".py",
   "mimetype": "text/x-python",
   "name": "python",
   "nbconvert_exporter": "python",
   "pygments_lexer": "ipython3",
   "version": "3.11.5"
  }
 },
 "nbformat": 4,
 "nbformat_minor": 5
}
