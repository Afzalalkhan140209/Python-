{
 "cells": [
  {
   "cell_type": "markdown",
   "id": "3ea72269",
   "metadata": {},
   "source": [
    "# Variables\n"
   ]
  },
  {
   "cell_type": "code",
   "execution_count": 7,
   "id": "0e4b5bd3",
   "metadata": {},
   "outputs": [],
   "source": [
    "saturday=\"December\""
   ]
  },
  {
   "cell_type": "code",
   "execution_count": 8,
   "id": "cd8217f8",
   "metadata": {},
   "outputs": [
    {
     "data": {
      "text/plain": [
       "'December'"
      ]
     },
     "execution_count": 8,
     "metadata": {},
     "output_type": "execute_result"
    }
   ],
   "source": [
    "saturday"
   ]
  },
  {
   "cell_type": "code",
   "execution_count": 12,
   "id": "290a4fbd",
   "metadata": {},
   "outputs": [
    {
     "name": "stdout",
     "output_type": "stream",
     "text": [
      "December\n"
     ]
    }
   ],
   "source": [
    "print(saturday)"
   ]
  },
  {
   "cell_type": "code",
   "execution_count": 20,
   "id": "bb16457d",
   "metadata": {},
   "outputs": [
    {
     "name": "stdout",
     "output_type": "stream",
     "text": [
      "saturday is variable, december is the value\n"
     ]
    }
   ],
   "source": [
    "print (\"saturday is variable, december is the value\")"
   ]
  },
  {
   "cell_type": "code",
   "execution_count": 21,
   "id": "2b17d550",
   "metadata": {},
   "outputs": [],
   "source": [
    "# is used for comment"
   ]
  },
  {
   "cell_type": "code",
   "execution_count": 22,
   "id": "bdf69b50",
   "metadata": {},
   "outputs": [
    {
     "data": {
      "text/plain": [
       "'December'"
      ]
     },
     "execution_count": 22,
     "metadata": {},
     "output_type": "execute_result"
    }
   ],
   "source": [
    "saturday"
   ]
  },
  {
   "cell_type": "code",
   "execution_count": 24,
   "id": "1c1aaa56",
   "metadata": {},
   "outputs": [],
   "source": [
    "saturday=6"
   ]
  },
  {
   "cell_type": "code",
   "execution_count": 25,
   "id": "b6276058",
   "metadata": {},
   "outputs": [],
   "source": [
    "del saturday"
   ]
  },
  {
   "cell_type": "code",
   "execution_count": 28,
   "id": "d5d1a3da",
   "metadata": {},
   "outputs": [],
   "source": [
    "saturday=6"
   ]
  },
  {
   "cell_type": "raw",
   "id": "ca254e29",
   "metadata": {},
   "source": [
    "saturday"
   ]
  },
  {
   "cell_type": "code",
   "execution_count": 29,
   "id": "4a01a7e8",
   "metadata": {},
   "outputs": [],
   "source": [
    "a=\"today\"\n",
    "b=6"
   ]
  },
  {
   "cell_type": "code",
   "execution_count": 31,
   "id": "35b60b3d",
   "metadata": {},
   "outputs": [
    {
     "name": "stdout",
     "output_type": "stream",
     "text": [
      "today 6\n"
     ]
    }
   ],
   "source": [
    "print (a,b)"
   ]
  },
  {
   "cell_type": "code",
   "execution_count": 34,
   "id": "eb89faf7",
   "metadata": {},
   "outputs": [
    {
     "name": "stdout",
     "output_type": "stream",
     "text": [
      "today is date 6\n"
     ]
    }
   ],
   "source": [
    "print(f\"{a} is date {6}\")"
   ]
  },
  {
   "cell_type": "code",
   "execution_count": 37,
   "id": "c0a97d94",
   "metadata": {},
   "outputs": [],
   "source": [
    "#this is called f string when we use curly bracket "
   ]
  },
  {
   "cell_type": "code",
   "execution_count": 39,
   "id": "57f36847",
   "metadata": {},
   "outputs": [],
   "source": [
    "c=1.2\n",
    "d=\"mummy\""
   ]
  },
  {
   "cell_type": "code",
   "execution_count": 40,
   "id": "879b0a70",
   "metadata": {},
   "outputs": [
    {
     "name": "stdout",
     "output_type": "stream",
     "text": [
      "today,6,1.2,mummy\n"
     ]
    }
   ],
   "source": [
    "print(f\"{a},{b},{c},{d}\")"
   ]
  },
  {
   "cell_type": "code",
   "execution_count": 42,
   "id": "64698800",
   "metadata": {},
   "outputs": [
    {
     "name": "stdout",
     "output_type": "stream",
     "text": [
      "today is date and decimal is 1.2 and parent is mummy\n"
     ]
    }
   ],
   "source": [
    "print(f\"{a} is date and decimal is {c} and parent is {d}\")"
   ]
  },
  {
   "cell_type": "code",
   "execution_count": 67,
   "id": "5e3772a6",
   "metadata": {},
   "outputs": [
    {
     "name": "stdout",
     "output_type": "stream",
     "text": [
      "today is date and decimal  is 1.2 and parent is mummy\n"
     ]
    }
   ],
   "source": [
    "print (a,\"is date and decimal \", \"is 1.2\",\"and parent is mummy\")"
   ]
  },
  {
   "cell_type": "code",
   "execution_count": null,
   "id": "9778078d",
   "metadata": {},
   "outputs": [],
   "source": []
  }
 ],
 "metadata": {
  "kernelspec": {
   "display_name": "Python 3 (ipykernel)",
   "language": "python",
   "name": "python3"
  },
  "language_info": {
   "codemirror_mode": {
    "name": "ipython",
    "version": 3
   },
   "file_extension": ".py",
   "mimetype": "text/x-python",
   "name": "python",
   "nbconvert_exporter": "python",
   "pygments_lexer": "ipython3",
   "version": "3.11.5"
  }
 },
 "nbformat": 4,
 "nbformat_minor": 5
}
