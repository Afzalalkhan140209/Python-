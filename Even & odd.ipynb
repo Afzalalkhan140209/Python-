{
  "metadata": {
    "kernelspec": {
      "name": "python",
      "display_name": "Python (Pyodide)",
      "language": "python"
    },
    "language_info": {
      "codemirror_mode": {
        "name": "python",
        "version": 3
      },
      "file_extension": ".py",
      "mimetype": "text/x-python",
      "name": "python",
      "nbconvert_exporter": "python",
      "pygments_lexer": "ipython3",
      "version": "3.8"
    }
  },
  "nbformat_minor": 4,
  "nbformat": 4,
  "cells": [
    {
      "cell_type": "markdown",
      "source": "#  Even Odd in Python",
      "metadata": {}
    },
    {
      "cell_type": "code",
      "source": "numbers = [12, 34, 51, 42,49,23,79,40]",
      "metadata": {
        "trusted": true
      },
      "outputs": [],
      "execution_count": 3
    },
    {
      "cell_type": "code",
      "source": "even = [n for n in numbers if n % 2 ==0]\nodd = [n for n in numbers if n % 2 !=0]",
      "metadata": {
        "trusted": true
      },
      "outputs": [],
      "execution_count": 4
    },
    {
      "cell_type": "code",
      "source": "print(\"Even numbers: \", even)\nprint(\"odd numbers: \", odd)",
      "metadata": {
        "trusted": true
      },
      "outputs": [
        {
          "name": "stdout",
          "text": "Even numbers:  [12, 34, 42, 40]\nodd numbers:  [51, 49, 23, 79]\n",
          "output_type": "stream"
        }
      ],
      "execution_count": 5
    },
    {
      "cell_type": "code",
      "source": "numbers = [1,2,3,4,5,23,6,7,8,9,72]",
      "metadata": {
        "trusted": true
      },
      "outputs": [],
      "execution_count": 6
    },
    {
      "cell_type": "code",
      "source": "Odd = [n for n in numbers if n % 2==0]\nEven = [n for n in numbers if n % 2 !=0]\nprime = [n for n in numbers if n % 2 !=0]",
      "metadata": {
        "trusted": true
      },
      "outputs": [],
      "execution_count": 13
    },
    {
      "cell_type": "code",
      "source": "print(\"odd numbers: \", odd)\nprint (\"Even numbers: \", even)\nprint (\"prime numbers: \", prime)",
      "metadata": {
        "trusted": true
      },
      "outputs": [
        {
          "name": "stdout",
          "text": "odd numbers:  [51, 49, 23, 79]\nEven numbers:  [12, 34, 42, 40]\nprime numbers:  [1, 3, 5, 23, 7, 9]\n",
          "output_type": "stream"
        }
      ],
      "execution_count": 12
    },
    {
      "cell_type": "code",
      "source": "numbers = [2,5,6,7,8,11,786,23,12]",
      "metadata": {
        "trusted": true
      },
      "outputs": [],
      "execution_count": 14
    },
    {
      "cell_type": "code",
      "source": "Square = [n for n in numbers if n % 2 !=0]\nOdd = [n for n in numbers if n % 2 ==0]\nPrime = [n for n in numbers if n % 2 !=0]\nEven = [n for n in numbers if n % 2!=0]",
      "metadata": {
        "trusted": true
      },
      "outputs": [],
      "execution_count": 23
    },
    {
      "cell_type": "code",
      "source": "print (\"Square numbers: \", Square)\nprint (\"odd numbers: \", odd)\nprint (\"prime numbers: \", prime)\nprint (\"Even numbers: \",even)",
      "metadata": {
        "trusted": true
      },
      "outputs": [
        {
          "name": "stdout",
          "text": "Square numbers:  [5, 7, 11, 23]\nodd numbers:  [51, 49, 23, 79]\nprime numbers:  [1, 3, 5, 23, 7, 9]\nEven numbers:  [12, 34, 42, 40]\n",
          "output_type": "stream"
        }
      ],
      "execution_count": 24
    },
    {
      "cell_type": "code",
      "source": "numbers = [2,4,6,8,10,12,14]",
      "metadata": {
        "trusted": true
      },
      "outputs": [],
      "execution_count": 38
    },
    {
      "cell_type": "code",
      "source": "print(number)",
      "metadata": {
        "trusted": true
      },
      "outputs": [
        {
          "name": "stdout",
          "text": "[2, 4, 6, 8, 10, 12, 14]\n",
          "output_type": "stream"
        }
      ],
      "execution_count": 39
    },
    {
      "cell_type": "code",
      "source": "print (\"Even numbers: \",even)",
      "metadata": {
        "trusted": true
      },
      "outputs": [
        {
          "name": "stdout",
          "text": "Even numbers:  [12, 34, 42, 40]\n",
          "output_type": "stream"
        }
      ],
      "execution_count": 28
    },
    {
      "cell_type": "code",
      "source": "print (\"odd numbers: \", odd)",
      "metadata": {
        "trusted": true
      },
      "outputs": [
        {
          "name": "stdout",
          "text": "odd numbers:  [51, 49, 23, 79]\n",
          "output_type": "stream"
        }
      ],
      "execution_count": 40
    },
    {
      "cell_type": "code",
      "source": "print (\"prime numbers: \", prime)",
      "metadata": {
        "trusted": true
      },
      "outputs": [
        {
          "name": "stdout",
          "text": "prime numbers:  [1, 3, 5, 23, 7, 9]\n",
          "output_type": "stream"
        }
      ],
      "execution_count": 41
    },
    {
      "cell_type": "code",
      "source": "print (\"Square numbers: \", Square)",
      "metadata": {
        "trusted": true
      },
      "outputs": [
        {
          "name": "stdout",
          "text": "Square numbers:  [5, 7, 11, 23]\n",
          "output_type": "stream"
        }
      ],
      "execution_count": 42
    },
    {
      "cell_type": "markdown",
      "source": "# Odd & Even & Prime & Square Numbers ",
      "metadata": {}
    },
    {
      "cell_type": "code",
      "source": "numbers = 1,101,46, 39,22,1,7, 23,2,3",
      "metadata": {
        "trusted": true
      },
      "outputs": [],
      "execution_count": 52
    },
    {
      "cell_type": "code",
      "source": "even = [n for n in numbers if n % 2 ==0]\nodd = [n for n in numbers if n % 2 !=0]\nsquare =[n for n in numbers if n % 2 !=0]\nprime =[n for n in numbers if n % 2 !=0]",
      "metadata": {
        "trusted": true
      },
      "outputs": [],
      "execution_count": 57
    },
    {
      "cell_type": "code",
      "source": "print(\"even numbers: \", even)",
      "metadata": {
        "trusted": true
      },
      "outputs": [
        {
          "name": "stdout",
          "text": "even numbers:  [46, 22, 2]\n",
          "output_type": "stream"
        }
      ],
      "execution_count": 60
    },
    {
      "cell_type": "code",
      "source": "print(\"square numbers: \", square)",
      "metadata": {
        "trusted": true
      },
      "outputs": [
        {
          "name": "stdout",
          "text": "square numbers:  [1, 101, 39, 1, 7, 23, 3]\n",
          "output_type": "stream"
        }
      ],
      "execution_count": 61
    },
    {
      "cell_type": "code",
      "source": "print(\"odd numbers: \", odd)",
      "metadata": {
        "trusted": true
      },
      "outputs": [
        {
          "name": "stdout",
          "text": "odd numbers:  [1, 101, 39, 1, 7, 23, 3]\n",
          "output_type": "stream"
        }
      ],
      "execution_count": 62
    },
    {
      "cell_type": "code",
      "source": "print(\"prime numbers: \", prime)",
      "metadata": {
        "trusted": true
      },
      "outputs": [
        {
          "name": "stdout",
          "text": "prime numbers:  [1, 101, 39, 1, 7, 23, 3]\n",
          "output_type": "stream"
        }
      ],
      "execution_count": 63
    },
    {
      "cell_type": "code",
      "source": "",
      "metadata": {
        "trusted": true
      },
      "outputs": [],
      "execution_count": null
    }
  ]
}