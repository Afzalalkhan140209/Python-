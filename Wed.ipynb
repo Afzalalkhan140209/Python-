{
  "metadata": {
    "kernelspec": {
      "name": "python",
      "display_name": "Python (Pyodide)",
      "language": "python"
    },
    "language_info": {
      "codemirror_mode": {
        "name": "python",
        "version": 3
      },
      "file_extension": ".py",
      "mimetype": "text/x-python",
      "name": "python",
      "nbconvert_exporter": "python",
      "pygments_lexer": "ipython3",
      "version": "3.8"
    }
  },
  "nbformat_minor": 4,
  "nbformat": 4,
  "cells": [
    {
      "cell_type": "code",
      "source": "for a in range(1,11):\n     print (\"4 x, a\", \"=\", a*4)",
      "metadata": {
        "trusted": true
      },
      "outputs": [
        {
          "name": "stdout",
          "text": "4 x, a = 4\n4 x, a = 8\n4 x, a = 12\n4 x, a = 16\n4 x, a = 20\n4 x, a = 24\n4 x, a = 28\n4 x, a = 32\n4 x, a = 36\n4 x, a = 40\n",
          "output_type": "stream"
        }
      ],
      "execution_count": 21
    },
    {
      "cell_type": "code",
      "source": "for a in range (1,16):\n    print (\"7 x, a\", \"=\", a*7)",
      "metadata": {
        "trusted": true
      },
      "outputs": [
        {
          "name": "stdout",
          "text": "7 x, a = 7\n7 x, a = 14\n7 x, a = 21\n7 x, a = 28\n7 x, a = 35\n7 x, a = 42\n7 x, a = 49\n7 x, a = 56\n7 x, a = 63\n7 x, a = 70\n7 x, a = 77\n7 x, a = 84\n7 x, a = 91\n7 x, a = 98\n7 x, a = 105\n",
          "output_type": "stream"
        }
      ],
      "execution_count": 20
    },
    {
      "cell_type": "code",
      "source": "for a in range (1,16):\n    print (\"a x, 7\", \"=\", 7*a)",
      "metadata": {
        "trusted": true
      },
      "outputs": [
        {
          "name": "stdout",
          "text": "a x, 7 = 7\na x, 7 = 14\na x, 7 = 21\na x, 7 = 28\na x, 7 = 35\na x, 7 = 42\na x, 7 = 49\na x, 7 = 56\na x, 7 = 63\na x, 7 = 70\na x, 7 = 77\na x, 7 = 84\na x, 7 = 91\na x, 7 = 98\na x, 7 = 105\n",
          "output_type": "stream"
        }
      ],
      "execution_count": 19
    },
    {
      "cell_type": "code",
      "source": "for a in range (1,13):\n    print (\"8 x, a\", \"=\", a*8)",
      "metadata": {
        "trusted": true
      },
      "outputs": [
        {
          "name": "stdout",
          "text": "8 x, a = 8\n8 x, a = 16\n8 x, a = 24\n8 x, a = 32\n8 x, a = 40\n8 x, a = 48\n8 x, a = 56\n8 x, a = 64\n8 x, a = 72\n8 x, a = 80\n8 x, a = 88\n8 x, a = 96\n",
          "output_type": "stream"
        }
      ],
      "execution_count": 18
    },
    {
      "cell_type": "code",
      "source": "for a in range (1,21):\n    print (\"9 x, a\", \"=\", a*9)",
      "metadata": {
        "trusted": true
      },
      "outputs": [
        {
          "name": "stdout",
          "text": "9 x, a = 9\n9 x, a = 18\n9 x, a = 27\n9 x, a = 36\n9 x, a = 45\n9 x, a = 54\n9 x, a = 63\n9 x, a = 72\n9 x, a = 81\n9 x, a = 90\n9 x, a = 99\n9 x, a = 108\n9 x, a = 117\n9 x, a = 126\n9 x, a = 135\n9 x, a = 144\n9 x, a = 153\n9 x, a = 162\n9 x, a = 171\n9 x, a = 180\n",
          "output_type": "stream"
        }
      ],
      "execution_count": 17
    },
    {
      "cell_type": "code",
      "source": "for a in range (1,8):\n    print (\"70 x, a\", \"=\", a*70)",
      "metadata": {
        "trusted": true
      },
      "outputs": [
        {
          "name": "stdout",
          "text": "70 x, a = 70\n70 x, a = 140\n70 x, a = 210\n70 x, a = 280\n70 x, a = 350\n70 x, a = 420\n70 x, a = 490\n",
          "output_type": "stream"
        }
      ],
      "execution_count": 16
    },
    {
      "cell_type": "code",
      "source": "for a in range (1,10):\n    print (\"12 +, a\", \"=\", a+12)",
      "metadata": {
        "trusted": true
      },
      "outputs": [
        {
          "name": "stdout",
          "text": "12 +, a = 13\n12 +, a = 14\n12 +, a = 15\n12 +, a = 16\n12 +, a = 17\n12 +, a = 18\n12 +, a = 19\n12 +, a = 20\n12 +, a = 21\n",
          "output_type": "stream"
        }
      ],
      "execution_count": 15
    },
    {
      "cell_type": "code",
      "source": "for a in range (1,5):\n    print (\"6 x, a\", \"=\", a*6)",
      "metadata": {
        "trusted": true
      },
      "outputs": [
        {
          "name": "stdout",
          "text": "6 x, a = 6\n6 x, a = 12\n6 x, a = 18\n6 x, a = 24\n",
          "output_type": "stream"
        }
      ],
      "execution_count": 14
    },
    {
      "cell_type": "code",
      "source": "for a in range (1,13):\n    print (\"5 x, a\" \"=\", a*5)",
      "metadata": {
        "trusted": true
      },
      "outputs": [
        {
          "name": "stdout",
          "text": "5 x, a= 5\n5 x, a= 10\n5 x, a= 15\n5 x, a= 20\n5 x, a= 25\n5 x, a= 30\n5 x, a= 35\n5 x, a= 40\n5 x, a= 45\n5 x, a= 50\n5 x, a= 55\n5 x, a= 60\n",
          "output_type": "stream"
        }
      ],
      "execution_count": 13
    },
    {
      "cell_type": "code",
      "source": "for a in range (1,5):\n    print(\"Miah\")",
      "metadata": {
        "trusted": true
      },
      "outputs": [
        {
          "name": "stdout",
          "text": "Miah\nMiah\nMiah\nMiah\n",
          "output_type": "stream"
        }
      ],
      "execution_count": 12
    },
    {
      "cell_type": "code",
      "source": "for a in range (1,5):\n    print (2345)",
      "metadata": {
        "trusted": true
      },
      "outputs": [
        {
          "name": "stdout",
          "text": "2345\n2345\n2345\n2345\n",
          "output_type": "stream"
        }
      ],
      "execution_count": 11
    },
    {
      "cell_type": "code",
      "source": "for a in range (1,5):\n    print (\"5 x, a\", \"=\", a*5)",
      "metadata": {
        "trusted": true
      },
      "outputs": [
        {
          "name": "stdout",
          "text": "5 x, a = 5\n5 x, a = 10\n5 x, a = 15\n5 x, a = 20\n",
          "output_type": "stream"
        }
      ],
      "execution_count": 10
    },
    {
      "cell_type": "code",
      "source": "for a in range (0,3):\n    print(\"4\")",
      "metadata": {
        "trusted": true
      },
      "outputs": [
        {
          "name": "stdout",
          "text": "4\n4\n4\n",
          "output_type": "stream"
        }
      ],
      "execution_count": 9
    },
    {
      "cell_type": "code",
      "source": "for a in range (2,7):\n    print(\"13 +, a=2\" , \"=\", a+13)",
      "metadata": {
        "trusted": true
      },
      "outputs": [
        {
          "name": "stdout",
          "text": "13 +, a=2 = 15\n13 +, a=2 = 16\n13 +, a=2 = 17\n13 +, a=2 = 18\n13 +, a=2 = 19\n",
          "output_type": "stream"
        }
      ],
      "execution_count": 8
    },
    {
      "cell_type": "code",
      "source": "for a in range (1,6):\n    print (\"11 + a=4\", \"=\", a+11)",
      "metadata": {
        "trusted": true
      },
      "outputs": [
        {
          "name": "stdout",
          "text": "11 + a=4 = 12\n11 + a=4 = 13\n11 + a=4 = 14\n11 + a=4 = 15\n11 + a=4 = 16\n",
          "output_type": "stream"
        }
      ],
      "execution_count": 7
    },
    {
      "cell_type": "code",
      "source": "for a in range (1,11):\n    print (\"12 - a\", \"=\" , 12-a)",
      "metadata": {
        "trusted": true
      },
      "outputs": [
        {
          "name": "stdout",
          "text": "12 - a = 11\n12 - a = 10\n12 - a = 9\n12 - a = 8\n12 - a = 7\n12 - a = 6\n12 - a = 5\n12 - a = 4\n12 - a = 3\n12 - a = 2\n",
          "output_type": "stream"
        }
      ],
      "execution_count": 1
    },
    {
      "cell_type": "code",
      "source": "for a in range (1,11):\n    print (\"9 * a\", \"=\", a*9)\n    \n    print (\"a=1\", \"b=2\")\n    ",
      "metadata": {
        "trusted": true
      },
      "outputs": [
        {
          "name": "stdout",
          "text": "9 * a = 9\na=1 b=2\n9 * a = 18\na=1 b=2\n9 * a = 27\na=1 b=2\n9 * a = 36\na=1 b=2\n9 * a = 45\na=1 b=2\n9 * a = 54\na=1 b=2\n9 * a = 63\na=1 b=2\n9 * a = 72\na=1 b=2\n9 * a = 81\na=1 b=2\n9 * a = 90\na=1 b=2\n",
          "output_type": "stream"
        }
      ],
      "execution_count": 2
    },
    {
      "cell_type": "code",
      "source": "for a in range (1,11):\n    print (\"a + 7\", \"=\" , a+7)",
      "metadata": {
        "trusted": true
      },
      "outputs": [
        {
          "name": "stdout",
          "text": "a + 7 = 8\na + 7 = 9\na + 7 = 10\na + 7 = 11\na + 7 = 12\na + 7 = 13\na + 7 = 14\na + 7 = 15\na + 7 = 16\na + 7 = 17\n",
          "output_type": "stream"
        }
      ],
      "execution_count": 6
    },
    {
      "cell_type": "code",
      "source": "for a in range (1,6):\n    print (\"Priya *5\")",
      "metadata": {
        "trusted": true
      },
      "outputs": [
        {
          "name": "stdout",
          "text": "Priya *5\nPriya *5\nPriya *5\nPriya *5\nPriya *5\n",
          "output_type": "stream"
        }
      ],
      "execution_count": 5
    },
    {
      "cell_type": "markdown",
      "source": "multiplication table",
      "metadata": {}
    },
    {
      "cell_type": "code",
      "source": "# n = int(input(\"enter the number:\"))\n# for i in range (1,11) :\n  #      print(n,\"*\", i, \"=\",n*i)",
      "metadata": {
        "trusted": true
      },
      "outputs": [],
      "execution_count": null
    },
    {
      "cell_type": "markdown",
      "source": "#Multiplication ",
      "metadata": {}
    },
    {
      "cell_type": "code",
      "source": "for a in range (1,11):\n    print (\"5 * a\", \"=\", a*5)",
      "metadata": {
        "trusted": true
      },
      "outputs": [
        {
          "name": "stdout",
          "text": "5 * a = 5\n5 * a = 10\n5 * a = 15\n5 * a = 20\n5 * a = 25\n5 * a = 30\n5 * a = 35\n5 * a = 40\n5 * a = 45\n5 * a = 50\n",
          "output_type": "stream"
        }
      ],
      "execution_count": 4
    },
    {
      "cell_type": "code",
      "source": "a=10\nprint (a)",
      "metadata": {
        "trusted": true
      },
      "outputs": [],
      "execution_count": null
    },
    {
      "cell_type": "code",
      "source": "a=\"albert\"",
      "metadata": {
        "trusted": true
      },
      "outputs": [],
      "execution_count": null
    },
    {
      "cell_type": "code",
      "source": "print(a)",
      "metadata": {
        "trusted": true
      },
      "outputs": [],
      "execution_count": null
    },
    {
      "cell_type": "markdown",
      "source": "Number Pattern",
      "metadata": {}
    },
    {
      "cell_type": "code",
      "source": "n = int(input (\"enter numbers of rows needed:\"))\nfor i in range(n):\n    for j in range (i+1):\n    print(j+1, end=\" \")\n        ",
      "metadata": {
        "trusted": true
      },
      "outputs": [],
      "execution_count": null
    },
    {
      "cell_type": "code",
      "source": "a=(\"Hamlet\")\nb=786\nc=3.16\nd=True",
      "metadata": {
        "trusted": true
      },
      "outputs": [],
      "execution_count": 25
    },
    {
      "cell_type": "code",
      "source": "print (a), (b), (c), (d)",
      "metadata": {
        "trusted": true
      },
      "outputs": [
        {
          "name": "stdout",
          "text": "Hamlet\n",
          "output_type": "stream"
        },
        {
          "execution_count": 32,
          "output_type": "execute_result",
          "data": {
            "text/plain": "(None, 786, 3.16, True)"
          },
          "metadata": {}
        }
      ],
      "execution_count": 32
    },
    {
      "cell_type": "code",
      "source": "sum = 0\nfor i in range(10):\n    sum = sum + 1\n    print (sum)",
      "metadata": {
        "trusted": true
      },
      "outputs": [
        {
          "name": "stdout",
          "text": "1\n2\n3\n4\n5\n6\n7\n8\n9\n10\n",
          "output_type": "stream"
        }
      ],
      "execution_count": 33
    },
    {
      "cell_type": "code",
      "source": "sum = 50\nfor i in range (10):\n    sum = sum + 10\n    print (sum)",
      "metadata": {
        "trusted": true
      },
      "outputs": [
        {
          "name": "stdout",
          "text": "60\n70\n80\n90\n100\n110\n120\n130\n140\n150\n",
          "output_type": "stream"
        }
      ],
      "execution_count": 39
    },
    {
      "cell_type": "code",
      "source": "sum = 25\nfor i in range (5):\n    sum = sum * (5)\n    print (sum)",
      "metadata": {
        "trusted": true
      },
      "outputs": [
        {
          "name": "stdout",
          "text": "125\n625\n3125\n15625\n78125\n",
          "output_type": "stream"
        }
      ],
      "execution_count": 41
    },
    {
      "cell_type": "code",
      "source": "sum = 100\nfor i in range (10):\n    sum = sum * (10)\n    print (sum)",
      "metadata": {
        "trusted": true
      },
      "outputs": [
        {
          "name": "stdout",
          "text": "1000\n10000\n100000\n1000000\n10000000\n100000000\n1000000000\n10000000000\n100000000000\n1000000000000\n",
          "output_type": "stream"
        }
      ],
      "execution_count": 44
    },
    {
      "cell_type": "code",
      "source": "for a in range (1,11):\n    print (\"6 + a\", \"=\", a+6)",
      "metadata": {
        "trusted": true
      },
      "outputs": [
        {
          "name": "stdout",
          "text": "6 + a = 7\n6 + a = 8\n6 + a = 9\n6 + a = 10\n6 + a = 11\n6 + a = 12\n6 + a = 13\n6 + a = 14\n6 + a = 15\n6 + a = 16\n",
          "output_type": "stream"
        }
      ],
      "execution_count": 56
    },
    {
      "cell_type": "code",
      "source": "for a in range (1,7,):\n    print (\"8 + a\", \"=\", a+8 )",
      "metadata": {
        "trusted": true
      },
      "outputs": [
        {
          "name": "stdout",
          "text": "8 + a = 9\n8 + a = 10\n8 + a = 11\n8 + a = 12\n8 + a = 13\n8 + a = 14\n",
          "output_type": "stream"
        }
      ],
      "execution_count": 62
    },
    {
      "cell_type": "code",
      "source": "",
      "metadata": {
        "trusted": true
      },
      "outputs": [],
      "execution_count": null
    }
  ]
}