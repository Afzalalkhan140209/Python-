{
  "metadata": {
    "kernelspec": {
      "name": "python",
      "display_name": "Python (Pyodide)",
      "language": "python"
    },
    "language_info": {
      "codemirror_mode": {
        "name": "python",
        "version": 3
      },
      "file_extension": ".py",
      "mimetype": "text/x-python",
      "name": "python",
      "nbconvert_exporter": "python",
      "pygments_lexer": "ipython3",
      "version": "3.8"
    }
  },
  "nbformat_minor": 4,
  "nbformat": 4,
  "cells": [
    {
      "cell_type": "markdown",
      "source": "Dictionaries = a collection (key.values) pairs \nordered and changeable (no duplicates)",
      "metadata": {}
    },
    {
      "cell_type": "code",
      "source": "capitals = {\"Spain\": \"Madrid\",\n           \"Italy\":\"Rome\",\n           \"France\":\"Paris\",\n           \"Norway\": \"Oslo\",\n           \"India\": \"New Delhi\",\n           \"USA\": \"Washington D.C\"}",
      "metadata": {
        "trusted": true
      },
      "outputs": [],
      "execution_count": 10
    },
    {
      "cell_type": "code",
      "source": "print(capitals.get(\"Spain\"))",
      "metadata": {
        "trusted": true
      },
      "outputs": [
        {
          "name": "stdout",
          "text": "Madrid\n",
          "output_type": "stream"
        }
      ],
      "execution_count": 3
    },
    {
      "cell_type": "code",
      "source": "print(capitals.get(\"France\"))",
      "metadata": {
        "trusted": true
      },
      "outputs": [
        {
          "name": "stdout",
          "text": "Paris\n",
          "output_type": "stream"
        }
      ],
      "execution_count": 4
    },
    {
      "cell_type": "code",
      "source": "print(capitals.get(\"Italy\"))",
      "metadata": {
        "trusted": true
      },
      "outputs": [
        {
          "name": "stdout",
          "text": "Rome\n",
          "output_type": "stream"
        }
      ],
      "execution_count": 23
    },
    {
      "cell_type": "code",
      "source": "print(capitals.get(\"India\"))",
      "metadata": {
        "trusted": true
      },
      "outputs": [
        {
          "name": "stdout",
          "text": "New Delhi\n",
          "output_type": "stream"
        }
      ],
      "execution_count": 24
    },
    {
      "cell_type": "code",
      "source": "print(capitals)",
      "metadata": {
        "trusted": true
      },
      "outputs": [
        {
          "name": "stdout",
          "text": "{'Spain': 'Madrid', 'Italy': 'Rome', 'France': 'Paris', 'Norway': 'Oslo', 'India': 'New Delhi', 'USA': 'Washington D.C'}\n",
          "output_type": "stream"
        }
      ],
      "execution_count": 5
    },
    {
      "cell_type": "code",
      "source": "#capitals.update({\"Germany\":\"Berlin\"})",
      "metadata": {
        "trusted": true
      },
      "outputs": [],
      "execution_count": 7
    },
    {
      "cell_type": "code",
      "source": "capitals [\"Italy\"]",
      "metadata": {
        "trusted": true
      },
      "outputs": [
        {
          "execution_count": 12,
          "output_type": "execute_result",
          "data": {
            "text/plain": "'Rome'"
          },
          "metadata": {}
        }
      ],
      "execution_count": 12
    },
    {
      "cell_type": "code",
      "source": "capitals.keys()",
      "metadata": {
        "trusted": true
      },
      "outputs": [
        {
          "execution_count": 17,
          "output_type": "execute_result",
          "data": {
            "text/plain": "dict_keys(['Spain', 'Italy', 'France', 'Norway', 'India', 'USA'])"
          },
          "metadata": {}
        }
      ],
      "execution_count": 17
    },
    {
      "cell_type": "code",
      "source": "capitals.values()",
      "metadata": {
        "trusted": true
      },
      "outputs": [
        {
          "execution_count": 33,
          "output_type": "execute_result",
          "data": {
            "text/plain": "dict_values(['Madrid', 'Rome', 'Paris', 'New Delhi', 'Washington D.C', 'Islamabad', 'Dhaka', 'Zurich', 'Edinburgh', 'Lisbon', 'London'])"
          },
          "metadata": {}
        }
      ],
      "execution_count": 33
    },
    {
      "cell_type": "code",
      "source": "capitals[\"Pakistan\"]=\"Islamabad\"",
      "metadata": {
        "trusted": true
      },
      "outputs": [],
      "execution_count": 12
    },
    {
      "cell_type": "code",
      "source": "capitals",
      "metadata": {
        "trusted": true
      },
      "outputs": [
        {
          "execution_count": 32,
          "output_type": "execute_result",
          "data": {
            "text/plain": "{'Spain': 'Madrid',\n 'Italy': 'Rome',\n 'France': 'Paris',\n 'India': 'New Delhi',\n 'USA': 'Washington D.C',\n 'Pakistan': 'Islamabad',\n 'Bangladesh': 'Dhaka',\n 'Switzerland': 'Zurich',\n 'Scotland': 'Edinburgh',\n 'Portugal': 'Lisbon',\n 'England': 'London'}"
          },
          "metadata": {}
        }
      ],
      "execution_count": 32
    },
    {
      "cell_type": "code",
      "source": "capitals[\"Bangladesh\"]=\"Dhaka\"",
      "metadata": {
        "trusted": true
      },
      "outputs": [],
      "execution_count": 14
    },
    {
      "cell_type": "code",
      "source": "capitals[\"Switzerland\"]=\"Zurich\"",
      "metadata": {
        "trusted": true
      },
      "outputs": [],
      "execution_count": 17
    },
    {
      "cell_type": "code",
      "source": "del capitals ['Norway']",
      "metadata": {
        "trusted": true
      },
      "outputs": [],
      "execution_count": 24
    },
    {
      "cell_type": "code",
      "source": "capitals[\"Scotland\"]=\"Edinburgh\"",
      "metadata": {
        "trusted": true
      },
      "outputs": [],
      "execution_count": 26
    },
    {
      "cell_type": "code",
      "source": "capitals[\"Portugal\"]=\"Lisbon\"",
      "metadata": {
        "trusted": true
      },
      "outputs": [],
      "execution_count": 28
    },
    {
      "cell_type": "code",
      "source": "capitals[\"England\"]=\"London\"",
      "metadata": {
        "trusted": true
      },
      "outputs": [],
      "execution_count": 34
    },
    {
      "cell_type": "code",
      "source": "capitals",
      "metadata": {
        "trusted": true
      },
      "outputs": [
        {
          "execution_count": 35,
          "output_type": "execute_result",
          "data": {
            "text/plain": "{'Spain': 'Madrid',\n 'Italy': 'Rome',\n 'France': 'Paris',\n 'India': 'New Delhi',\n 'USA': 'Washington D.C',\n 'Pakistan': 'Islamabad',\n 'Bangladesh': 'Dhaka',\n 'Switzerland': 'Zurich',\n 'Scotland': 'Edinburgh',\n 'Portugal': 'Lisbon',\n 'England': 'London'}"
          },
          "metadata": {}
        }
      ],
      "execution_count": 35
    },
    {
      "cell_type": "code",
      "source": "",
      "metadata": {
        "trusted": true
      },
      "outputs": [],
      "execution_count": null
    }
  ]
}